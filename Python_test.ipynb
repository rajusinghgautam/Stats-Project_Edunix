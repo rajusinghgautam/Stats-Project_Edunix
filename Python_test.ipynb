{
 "cells": [
  {
   "cell_type": "code",
   "execution_count": 1,
   "id": "c6ec3f58-1f5e-4777-98f3-c3292f7ac546",
   "metadata": {},
   "outputs": [
    {
     "name": "stdout",
     "output_type": "stream",
     "text": [
      "('Harry Potter', 4)\n"
     ]
    }
   ],
   "source": [
    "# Task: Most Borrowed Book\n",
    "\n",
    "def most_frequent_book(borrowed_books):\n",
    "    # Check for an empty list\n",
    "    if not borrowed_books:\n",
    "        raise ValueError(\"The book list is empty.\")\n",
    "    \n",
    "    # Count occurrences and sort alphabetically on ties\n",
    "    from collections import Counter\n",
    "    book_counts = Counter(borrowed_books)\n",
    "    most_borrowed = max(book_counts.items(), key=lambda x: (x[1], -ord(x[0][0])))\n",
    "    return most_borrowed[0], most_borrowed[1]\n",
    "\n",
    "# Testing the function\n",
    "borrowed_books = [\"Harry Potter\", \"Lord of the Rings\", \"Harry Potter\", \"Narnia\", \n",
    "                  \"Lord of the Rings\", \"Harry Potter\", \"Lord of the Rings\", \n",
    "                  \"Lord of the Rings\", \"Percy Jackson\", \"Harry Potter\"]\n",
    "print(most_frequent_book(borrowed_books))  # Expected output: ('Harry Potter', 4)\n"
   ]
  },
  {
   "cell_type": "code",
   "execution_count": 2,
   "id": "42a9c915-f93b-4662-9b46-0487fe576d35",
   "metadata": {},
   "outputs": [
    {
     "name": "stdout",
     "output_type": "stream",
     "text": [
      "XLI\n",
      "LXXXVIII\n"
     ]
    }
   ],
   "source": [
    "# Task: Convert to Roman Numerals\n",
    "\n",
    "def convert_to_roman(number):\n",
    "    # Validate input range\n",
    "    if number < 1 or number > 100:\n",
    "        raise ValueError(\"Number out of range. Must be between 1 and 100.\")\n",
    "    \n",
    "    # Mapping for Roman numeral conversion\n",
    "    roman_numerals = [\n",
    "        (100, 'C'), (90, 'XC'), (50, 'L'), (40, 'XL'), (10, 'X'), \n",
    "        (9, 'IX'), (5, 'V'), (4, 'IV'), (1, 'I')\n",
    "    ]\n",
    "    result = \"\"\n",
    "    \n",
    "    # Build the Roman numeral\n",
    "    for value, numeral in roman_numerals:\n",
    "        while number >= value:\n",
    "            result += numeral\n",
    "            number -= value\n",
    "    return result\n",
    "\n",
    "# Testing the function\n",
    "print(convert_to_roman(41))  # Expected output: \"XLI\"\n",
    "print(convert_to_roman(88))  # Expected output: \"LXXXVIII\"\n"
   ]
  },
  {
   "cell_type": "code",
   "execution_count": 3,
   "id": "41c555cb-95b4-4569-8947-b18318076ca7",
   "metadata": {},
   "outputs": [
    {
     "name": "stdout",
     "output_type": "stream",
     "text": [
      "Modified Matrix:\n",
      " [[1. 0. 0. 0. 0.]\n",
      " [0. 1. 0. 0. 0.]\n",
      " [0. 0. 1. 0. 0.]\n",
      " [0. 0. 0. 1. 0.]\n",
      " [1. 2. 3. 4. 5.]]\n",
      "Sum of Diagonal Elements: 9.0\n",
      "Sum of Second Column: 3.0\n",
      "Sum of Fourth Column: 5.0\n"
     ]
    }
   ],
   "source": [
    "# Task: Matrix Operations with NumPy\n",
    "import numpy as np\n",
    "\n",
    "# Step 1: Create a 5x5 Identity Matrix\n",
    "matrix = np.identity(5)\n",
    "\n",
    "# Step 2: Modify the last row\n",
    "matrix[-1] = np.array([1, 2, 3, 4, 5])\n",
    "\n",
    "# Step 3: Calculate Sum of Diagonal Elements\n",
    "sum_diagonal = np.trace(matrix)\n",
    "\n",
    "# Step 4: Extract and Sum Specific Columns\n",
    "sum_second_column = np.sum(matrix[:, 1])\n",
    "sum_fourth_column = np.sum(matrix[:, 3])\n",
    "\n",
    "print(\"Modified Matrix:\\n\", matrix)\n",
    "print(\"Sum of Diagonal Elements:\", sum_diagonal)\n",
    "print(\"Sum of Second Column:\", sum_second_column)\n",
    "print(\"Sum of Fourth Column:\", sum_fourth_column)\n"
   ]
  },
  {
   "cell_type": "code",
   "execution_count": 4,
   "id": "ffd2ae03-0ff5-4418-855f-d7884de44f60",
   "metadata": {},
   "outputs": [
    {
     "name": "stdout",
     "output_type": "stream",
     "text": [
      "[3]\n"
     ]
    }
   ],
   "source": [
    "# Task: Find Maximum Odd Number and Its Index\n",
    "\n",
    "def max_odd_value(sequence):\n",
    "    # Extract odd values with their indices\n",
    "    odd_numbers = [(i, num) for i, num in enumerate(sequence) if num % 2 != 0]\n",
    "    if not odd_numbers:\n",
    "        return []\n",
    "    \n",
    "    # Find the maximum odd value with the earliest index\n",
    "    max_odd = max(odd_numbers, key=lambda x: x[1])\n",
    "    return [max_odd[0]]\n",
    "\n",
    "# Example sequence\n",
    "sequence = [2, 4, 6, 7, 5, 7, 8]\n",
    "print(max_odd_value(sequence))  # Expected output: [3]\n"
   ]
  },
  {
   "cell_type": "code",
   "execution_count": 5,
   "id": "039b05e3-b2a4-4f8c-a586-493fad1307c3",
   "metadata": {},
   "outputs": [
    {
     "name": "stdout",
     "output_type": "stream",
     "text": [
      "Covariance Matrix:\n",
      " [[ 5.66666667e-02  1.48333333e+00  8.16666667e-01]\n",
      " [ 1.48333333e+00  5.75833333e+01 -9.91666667e+00]\n",
      " [ 8.16666667e-01 -9.91666667e+00  6.42500000e+01]]\n"
     ]
    },
    {
     "data": {
      "image/png": "[encoded data removed]",
      "text/plain": [
       "<Figure size 640x480 with 2 Axes>"
      ]
     },
     "metadata": {},
     "output_type": "display_data"
    }
   ],
   "source": [
    "# Task: Covariance Matrix and Visualization\n",
    "import numpy as np\n",
    "import matplotlib.pyplot as plt\n",
    "\n",
    "# Example data for height, weight, age\n",
    "data = np.array([\n",
    "    [5.9, 80, 25],\n",
    "    [5.5, 62, 32],\n",
    "    [6.0, 75, 40],\n",
    "    [5.6, 72, 22]\n",
    "])\n",
    "\n",
    "# Calculate covariance matrix\n",
    "cov_matrix = np.cov(data, rowvar=False)\n",
    "print(\"Covariance Matrix:\\n\", cov_matrix)\n",
    "\n",
    "# Visualize the data\n",
    "plt.imshow(cov_matrix, cmap='viridis', interpolation='none')\n",
    "plt.colorbar()\n",
    "plt.title(\"Covariance Matrix Heatmap\")\n",
    "plt.show()\n"
   ]
  },
  {
   "cell_type": "code",
   "execution_count": 6,
   "id": "16f5a90d-7295-49f3-a8c2-8d376fed0415",
   "metadata": {},
   "outputs": [
    {
     "name": "stdout",
     "output_type": "stream",
     "text": [
      "Yes\n",
      "No\n"
     ]
    }
   ],
   "source": [
    "# Task: Palindrome Checker\n",
    "\n",
    "import re\n",
    "\n",
    "def is_palindrome(s):\n",
    "    # Clean up the input string\n",
    "    cleaned = re.sub(r'[^A-Za-z0-9]', '', s.lower())\n",
    "    return \"Yes\" if cleaned == cleaned[::-1] else \"No\"\n",
    "\n",
    "# Testing the function\n",
    "print(is_palindrome(\"A man, a plan, a canal, Panama\"))  # Expected output: \"Yes\"\n",
    "print(is_palindrome(\"hello\"))  # Expected output: \"No\"\n"
   ]
  },
  {
   "cell_type": "code",
   "execution_count": null,
   "id": "41958b75-4df9-4746-a1d2-a821b544401d",
   "metadata": {},
   "outputs": [],
   "source": []
  }
 ],
 "metadata": {
  "kernelspec": {
   "display_name": "Python 3 (ipykernel)",
   "language": "python",
   "name": "python3"
  },
  "language_info": {
   "codemirror_mode": {
    "name": "ipython",
    "version": 3
   },
   "file_extension": ".py",
   "mimetype": "text/x-python",
   "name": "python",
   "nbconvert_exporter": "python",
   "pygments_lexer": "ipython3",
   "version": "3.11.7"
  }
 },
 "nbformat": 4,
 "nbformat_minor": 5
}
